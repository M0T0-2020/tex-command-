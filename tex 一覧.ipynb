{
 "cells": [
  {
   "cell_type": "markdown",
   "id": "48f9fbb2",
   "metadata": {},
   "source": [
    "<a id=\"top\">\n",
    "    <br></br>\n",
    "</a>\n",
    "\n",
    "<!--\n",
    "\n",
    "<a id=\"上付き・下付きの添字\"></a>\n",
    "### 上付き・下付きの添字\n",
    "|&nbsp;&nbsp;&nbsp;&nbsp;&nbsp;&nbsp;&nbsp;&nbsp;&nbsp;&nbsp;&nbsp;&nbsp;&nbsp;&nbsp;&nbsp;&nbsp;&nbsp;&nbsp;&nbsp;&nbsp;$\\LaTeX$&nbsp;&nbsp;&nbsp;&nbsp;&nbsp;&nbsp;&nbsp;&nbsp;&nbsp;&nbsp;&nbsp;&nbsp;&nbsp;&nbsp;&nbsp;&nbsp;&nbsp;&nbsp;&nbsp;&nbsp;| &nbsp;&nbsp;&nbsp;&nbsp;&nbsp;&nbsp;&nbsp;&nbsp;&nbsp;&nbsp;&nbsp;&nbsp;&nbsp;&nbsp;&nbsp;&nbsp;&nbsp;&nbsp;&nbsp;&nbsp;出力　&nbsp;&nbsp;&nbsp;&nbsp;&nbsp;&nbsp;&nbsp;&nbsp;&nbsp;&nbsp;&nbsp;&nbsp;&nbsp;&nbsp;&nbsp;&nbsp;&nbsp;&nbsp;&nbsp;&nbsp;|\n",
    "|:-:|:-:|\n",
    "| | $ $| \n",
    "\n",
    "[**topに戻る**](#top)\n",
    "\n",
    "\n",
    "<a id=\"上付き・下付きの添字\"></a>\n",
    "### 上付き・下付きの添字\n",
    "|&nbsp;&nbsp;&nbsp;&nbsp;&nbsp;&nbsp;&nbsp;&nbsp;&nbsp;&nbsp;&nbsp;&nbsp;&nbsp;&nbsp;&nbsp;&nbsp;&nbsp;&nbsp;&nbsp;&nbsp;$\\LaTeX$&nbsp;&nbsp;&nbsp;&nbsp;&nbsp;&nbsp;&nbsp;&nbsp;&nbsp;&nbsp;&nbsp;&nbsp;&nbsp;&nbsp;&nbsp;&nbsp;&nbsp;&nbsp;&nbsp;&nbsp;| &nbsp;&nbsp;&nbsp;&nbsp;&nbsp;&nbsp;&nbsp;&nbsp;&nbsp;&nbsp;&nbsp;&nbsp;&nbsp;&nbsp;&nbsp;&nbsp;&nbsp;&nbsp;&nbsp;&nbsp;出力　&nbsp;&nbsp;&nbsp;&nbsp;&nbsp;&nbsp;&nbsp;&nbsp;&nbsp;&nbsp;&nbsp;&nbsp;&nbsp;&nbsp;&nbsp;&nbsp;&nbsp;&nbsp;&nbsp;&nbsp;|&nbsp;&nbsp;&nbsp;&nbsp;&nbsp;&nbsp;&nbsp;&nbsp;&nbsp;&nbsp;&nbsp;&nbsp;&nbsp;&nbsp;&nbsp;&nbsp;&nbsp;&nbsp;&nbsp;&nbsp;説明&nbsp;&nbsp;&nbsp;&nbsp;&nbsp;&nbsp;&nbsp;&nbsp;&nbsp;&nbsp;&nbsp;&nbsp;&nbsp;&nbsp;&nbsp;&nbsp;&nbsp;&nbsp;&nbsp;&nbsp;|\n",
    "|:-:|:-:|:-:|\n",
    "|a \\quad a | $a \\quad a$|1文字分のスペース|\n",
    "\n",
    "[**topに戻る**](#top)\n",
    "\n",
    "&nbsp;&nbsp;&nbsp;&nbsp;&nbsp;&nbsp;&nbsp;&nbsp;&nbsp;&nbsp;&nbsp;&nbsp;&nbsp;&nbsp;&nbsp;&nbsp;&nbsp;&nbsp;&nbsp;&nbsp;$\\LaTeX$&nbsp;&nbsp;&nbsp;&nbsp;&nbsp;&nbsp;&nbsp;&nbsp;&nbsp;&nbsp;&nbsp;&nbsp;&nbsp;&nbsp;&nbsp;&nbsp;&nbsp;&nbsp;&nbsp;&nbsp;| &nbsp;&nbsp;&nbsp;&nbsp;&nbsp;&nbsp;&nbsp;&nbsp;&nbsp;&nbsp;&nbsp;&nbsp;&nbsp;&nbsp;&nbsp;&nbsp;&nbsp;&nbsp;&nbsp;&nbsp;出力　&nbsp;&nbsp;&nbsp;&nbsp;&nbsp;&nbsp;&nbsp;&nbsp;&nbsp;&nbsp;&nbsp;&nbsp;&nbsp;&nbsp;&nbsp;&nbsp;&nbsp;&nbsp;&nbsp;&nbsp;|\n",
    "&nbsp;&nbsp;&nbsp;&nbsp;&nbsp;&nbsp;&nbsp;&nbsp;&nbsp;&nbsp;&nbsp;&nbsp;&nbsp;&nbsp;&nbsp;&nbsp;&nbsp;&nbsp;&nbsp;&nbsp;\n",
    "\n",
    "\n",
    "n=150\n",
    "print(\"|\"+\"&nbsp;\"*n + \"$\\LaTeX$\"+\"&nbsp;\"*n+\"|\"+\"&nbsp;\"*n + \"出力\"+\"&nbsp;\"*n+\"|\")\n",
    "\n",
    "花文字が mathscr、筆記体文字が mathcal です。<br></br>\n",
    "\\usepackage{mathrsfs}  が必要\n",
    "\n",
    "-->"
   ]
  },
  {
   "cell_type": "markdown",
   "id": "480ba169",
   "metadata": {},
   "source": [
    "[**\\displaystyle (表示の大きさなどを整える)**](#displaystyle)<br>\n",
    "[**上付き・下付きの添字**](#上付き・下付きの添字) <br>\n",
    "[**絶対値**](#絶対値) <br>\n",
    "[**カッコ**](#カッコ) <br>\n",
    "[**場合分け**](#場合分け) <br>\n",
    "[**空白**](#空白)<br>\n",
    "[**集合や数列の演算　周り$\\sum$,$\\cap$,$\\cup$,$\\prod$**](#集合や数列の演算)<br>\n",
    "[**極限**](#極限)<br>\n",
    "[**穴あき文字$\\mathbb{N}, \\ \\mathbb{R}, \\ \\mathbb{C}$**](#穴あき文字)<br>\n",
    "[**ギリシャ文字**](#ギリシャ文字)<br>\n",
    "[**花文字・筆記体文字**](#花文字・筆記体文字)<br>\n",
    "[**ドイツ文字一覧**](#ドイツ文字一覧)<br>\n",
    "[**積分・重積分・周回積分**](#積分・重積分・周回積分)<br>"
   ]
  },
  {
   "cell_type": "markdown",
   "id": "e92633ae",
   "metadata": {},
   "source": [
    "|&nbsp;&nbsp;&nbsp;&nbsp;&nbsp;&nbsp;&nbsp;&nbsp;&nbsp;&nbsp;&nbsp;&nbsp;&nbsp;&nbsp;&nbsp;&nbsp;&nbsp;&nbsp;&nbsp;&nbsp;$\\LaTeX$&nbsp;&nbsp;&nbsp;&nbsp;&nbsp;&nbsp;&nbsp;&nbsp;&nbsp;&nbsp;&nbsp;&nbsp;&nbsp;&nbsp;&nbsp;&nbsp;&nbsp;&nbsp;&nbsp;&nbsp;|&nbsp;&nbsp;&nbsp;&nbsp;&nbsp;&nbsp;&nbsp;&nbsp;&nbsp;&nbsp;&nbsp;&nbsp;&nbsp;&nbsp;&nbsp;&nbsp;&nbsp;&nbsp;&nbsp;&nbsp;出力&nbsp;&nbsp;&nbsp;&nbsp;&nbsp;&nbsp;&nbsp;&nbsp;&nbsp;&nbsp;&nbsp;&nbsp;&nbsp;&nbsp;&nbsp;&nbsp;&nbsp;&nbsp;&nbsp;&nbsp;|\n",
    "|:-|:-:|\n",
    "|\\stackrel{P}{\\rightarrow}|$\\stackrel{P}{\\rightarrow}$|\n",
    "|\\stackrel{a.s.}{\\rightarrow}|$\\stackrel{a.s.}{\\rightarrow}$|\n",
    "|\\bar{a}|$\\bar{a}$|\n",
    "|\\overline{ab}|$\\overline{ab}$|\n",
    "|\\vec{x}|$\\vec{x}$|\n",
    "|\\overrightarrow{ab}|$\\overrightarrow{ab}$|"
   ]
  },
  {
   "cell_type": "markdown",
   "id": "b1446517",
   "metadata": {},
   "source": [
    "<a id=\"displaystyle\"></a>\n",
    "### \\displaystyle\n",
    "\n",
    "|&nbsp;&nbsp;&nbsp;&nbsp;&nbsp;&nbsp;&nbsp;&nbsp;&nbsp;&nbsp;&nbsp;&nbsp;&nbsp;&nbsp;&nbsp;&nbsp;&nbsp;&nbsp;&nbsp;&nbsp;\\displaystyleあり&nbsp;&nbsp;&nbsp;&nbsp;&nbsp;&nbsp;&nbsp;&nbsp;&nbsp;&nbsp;&nbsp;&nbsp;&nbsp;&nbsp;&nbsp;&nbsp;&nbsp;&nbsp;&nbsp;&nbsp;|&nbsp;&nbsp;&nbsp;&nbsp;&nbsp;&nbsp;&nbsp;&nbsp;&nbsp;&nbsp;&nbsp;&nbsp;&nbsp;&nbsp;&nbsp;&nbsp;&nbsp;&nbsp;&nbsp;&nbsp;出力&nbsp;&nbsp;&nbsp;&nbsp;&nbsp;&nbsp;&nbsp;&nbsp;&nbsp;&nbsp;&nbsp;&nbsp;&nbsp;&nbsp;&nbsp;&nbsp;&nbsp;&nbsp;&nbsp;&nbsp;|&nbsp;&nbsp;&nbsp;&nbsp;&nbsp;&nbsp;&nbsp;&nbsp;&nbsp;&nbsp;&nbsp;&nbsp;&nbsp;&nbsp;&nbsp;&nbsp;&nbsp;&nbsp;&nbsp;&nbsp;\\displaystyleなし&nbsp;&nbsp;&nbsp;&nbsp;&nbsp;&nbsp;&nbsp;&nbsp;&nbsp;&nbsp;&nbsp;&nbsp;&nbsp;&nbsp;&nbsp;&nbsp;&nbsp;&nbsp;&nbsp;&nbsp;|&nbsp;&nbsp;&nbsp;&nbsp;&nbsp;&nbsp;&nbsp;&nbsp;&nbsp;&nbsp;&nbsp;&nbsp;&nbsp;&nbsp;&nbsp;&nbsp;&nbsp;&nbsp;&nbsp;&nbsp;出力&nbsp;&nbsp;&nbsp;&nbsp;&nbsp;&nbsp;&nbsp;&nbsp;&nbsp;&nbsp;&nbsp;&nbsp;&nbsp;&nbsp;&nbsp;&nbsp;&nbsp;&nbsp;&nbsp;&nbsp;|\n",
    "|:-:|:-:|:-:|:-:|\n",
    "| \\displaystyle\\frac{X_{1} + \\dots + X_{n}}{n} | $\\displaystyle\\frac{X_{1} + \\dots + X_{n}}{n}$ | \\frac{X_{1} + \\dots + X_{n}}{n} | $\\frac{X_{1} + \\dots + X_{n}}{n}$ |\n",
    "| \\displaystyle\\frac{1}{b_{n}}\\sum_{k=1}^{n} b_{k} x_{k} | $\\displaystyle\\frac{1}{b_{n}}\\sum_{k=1}^{n} b_{k} x_{k}$ | \\frac{1}{b_{n}}\\sum_{k=1}^{n} b_{k} x_{k} |$\\frac{1}{b_{n}}\\sum_{k=1}^{n} b_{k} x_{k}$|\n",
    "\n",
    "[**topに戻る**](#top)"
   ]
  },
  {
   "cell_type": "markdown",
   "id": "99d5ffc3",
   "metadata": {},
   "source": [
    "<a id=\"上付き・下付きの添字\"></a>\n",
    "### 上付き・下付きの添字\n",
    "\n",
    "|&nbsp;&nbsp;&nbsp;&nbsp;&nbsp;&nbsp;&nbsp;&nbsp;&nbsp;&nbsp;&nbsp;&nbsp;&nbsp;&nbsp;&nbsp;&nbsp;&nbsp;&nbsp;&nbsp;&nbsp;$\\LaTeX$&nbsp;&nbsp;&nbsp;&nbsp;&nbsp;&nbsp;&nbsp;&nbsp;&nbsp;&nbsp;&nbsp;&nbsp;&nbsp;&nbsp;&nbsp;&nbsp;&nbsp;&nbsp;&nbsp;&nbsp;| &nbsp;&nbsp;&nbsp;&nbsp;&nbsp;&nbsp;&nbsp;&nbsp;&nbsp;&nbsp;&nbsp;&nbsp;&nbsp;&nbsp;&nbsp;&nbsp;&nbsp;&nbsp;&nbsp;&nbsp;出力　&nbsp;&nbsp;&nbsp;&nbsp;&nbsp;&nbsp;&nbsp;&nbsp;&nbsp;&nbsp;&nbsp;&nbsp;&nbsp;&nbsp;&nbsp;&nbsp;&nbsp;&nbsp;&nbsp;&nbsp;|\n",
    "|:-:|:-:|\n",
    "|x^a | $x^a$|\n",
    "|x^{a+b} | $x^{a+b}$|\n",
    "|x^{a^b} | $x^{a^b}$|\n",
    "|a\\_i | $a_i $|\n",
    "|a\\_{ij} | $a_{ij}$|\n",
    "|a\\_{i\\_j} | $a_{i_j}$|\n",
    "|{1}\\_a | ${1}_a$|\n",
    "|^{ }\\_{1}a | $^{ }_{1}a$|\n",
    "| ^{1}\\_{2} A ^{3}\\_{4}  | $^{1}_{2} A ^{3}_{4}$ |\n",
    "|A^{1\\_{2^3}}  | $A^{1_{2^3}}$  | \n",
    "|A\\_{1^{2\\_{3^4}}}|$A_{1^{2_{3^4}}}$|\n",
    "\n",
    "[**topに戻る**](#top)"
   ]
  },
  {
   "cell_type": "markdown",
   "id": "7915636e",
   "metadata": {},
   "source": [
    "<a id=\"絶対値\"></a>\n",
    "### 絶対値\n",
    "\n",
    "|&nbsp;&nbsp;&nbsp;&nbsp;&nbsp;&nbsp;&nbsp;&nbsp;&nbsp;&nbsp;&nbsp;&nbsp;&nbsp;&nbsp;&nbsp;&nbsp;&nbsp;&nbsp;&nbsp;&nbsp;$\\LaTeX$&nbsp;&nbsp;&nbsp;&nbsp;&nbsp;&nbsp;&nbsp;&nbsp;&nbsp;&nbsp;&nbsp;&nbsp;&nbsp;&nbsp;&nbsp;&nbsp;&nbsp;&nbsp;&nbsp;&nbsp;| &nbsp;&nbsp;&nbsp;&nbsp;&nbsp;&nbsp;&nbsp;&nbsp;&nbsp;&nbsp;&nbsp;&nbsp;&nbsp;&nbsp;&nbsp;&nbsp;&nbsp;&nbsp;&nbsp;&nbsp;出力　&nbsp;&nbsp;&nbsp;&nbsp;&nbsp;&nbsp;&nbsp;&nbsp;&nbsp;&nbsp;&nbsp;&nbsp;&nbsp;&nbsp;&nbsp;&nbsp;&nbsp;&nbsp;&nbsp;&nbsp;|\n",
    "|:-:|:-:|\n",
    "|　\\|x\\| | $ |x|$|\n",
    "|　\\displaystyle\\left\\| \\frac{x}{y} \\right\\| | $\\displaystyle\\left| \\frac{x}{y} \\right|$|\n",
    "\n",
    "[**topに戻る**](#top)"
   ]
  },
  {
   "cell_type": "markdown",
   "id": "6f387dff",
   "metadata": {},
   "source": [
    "<a id=\"カッコ\"></a>\n",
    "### カッコ \n",
    "|&nbsp;&nbsp;&nbsp;&nbsp;&nbsp;&nbsp;&nbsp;&nbsp;&nbsp;&nbsp;&nbsp;&nbsp;&nbsp;&nbsp;&nbsp;&nbsp;&nbsp;&nbsp;&nbsp;&nbsp;$\\LaTeX$&nbsp;&nbsp;&nbsp;&nbsp;&nbsp;&nbsp;&nbsp;&nbsp;&nbsp;&nbsp;&nbsp;&nbsp;&nbsp;&nbsp;&nbsp;&nbsp;&nbsp;&nbsp;&nbsp;&nbsp;| &nbsp;&nbsp;&nbsp;&nbsp;&nbsp;&nbsp;&nbsp;&nbsp;&nbsp;&nbsp;&nbsp;&nbsp;&nbsp;&nbsp;&nbsp;&nbsp;&nbsp;&nbsp;&nbsp;&nbsp;出力　&nbsp;&nbsp;&nbsp;&nbsp;&nbsp;&nbsp;&nbsp;&nbsp;&nbsp;&nbsp;&nbsp;&nbsp;&nbsp;&nbsp;&nbsp;&nbsp;&nbsp;&nbsp;&nbsp;&nbsp;|&nbsp;&nbsp;&nbsp;&nbsp;&nbsp;&nbsp;&nbsp;&nbsp;&nbsp;&nbsp;&nbsp;&nbsp;&nbsp;&nbsp;&nbsp;&nbsp;&nbsp;&nbsp;&nbsp;&nbsp;説明&nbsp;&nbsp;&nbsp;&nbsp;&nbsp;&nbsp;&nbsp;&nbsp;&nbsp;&nbsp;&nbsp;&nbsp;&nbsp;&nbsp;&nbsp;&nbsp;&nbsp;&nbsp;&nbsp;&nbsp;|\n",
    "|:-:|:-:|:-:|\n",
    "| ( a ) |$ ( a ) $|普通の括弧|\n",
    "|\\langle a \\rangle|$ \\langle a \\rangle $|三角括弧|\n",
    "|\\lbrace a \\rbrace|$ \\lbrace a \\rbrace $|中括弧|\n",
    "|\\lbrack a \\rbrack|$ \\lbrack a \\rbrack $|大括弧|\n",
    "| \\lfloor a \\rfloor |$ \\lfloor a \\rfloor $|上欠け大括弧|\n",
    "| \\lceil a \\rceil |$ \\lceil a \\rceil $ |下欠け大括弧|\n",
    "| \\left[ \\displaystyle\\bigcap\\_{n=1}^{\\infty} A\\_{n} \\right] | $ \\left[ \\displaystyle\\bigcap_{n=1}^{\\infty} A_{n} \\right] $ |　大きさ自動調整 \\left[ \\right] |\n",
    "| \\left\\{ \\displaystyle\\bigcap\\_{n=1}^{\\infty} A\\_{n} \\right\\} | $ \\left\\{ \\displaystyle\\bigcap_{n=1}^{\\infty} A_{n} \\right\\} $ |　大きさ自動調整 \\left\\{ \\right\\}|\n",
    "| \\left( \\displaystyle\\bigcap\\_{n=1}^{\\infty} A\\_{n} \\right) | $ \\left( \\displaystyle\\bigcap_{n=1}^{\\infty} A_{n} \\right) $ |　大きさ自動調整 \\left( \\right)|\n",
    "| \\Biggl\\{ a \\Biggr\\} | $ \\Biggl\\{ a \\Biggr\\} $|大きい{ }|\n",
    "| \\biggl\\{ a \\biggl\\} | $ \\biggl\\{ a \\biggl\\} $|大きい{ }|\n",
    "| \\Bigl\\{ a \\Bigl\\} | $ \\Bigl\\{ a \\Bigl\\} $|大きい{ }|\n",
    "| \\bigl\\{ a \\bigl\\} | $ \\bigl\\{ a \\bigl\\} $|大きい { }|\n",
    "| \\Biggl[ a \\Biggr] | $ \\Biggl[ a \\Biggr] $|大きい[ ]|\n",
    "| \\biggl[ a \\biggl] | $ \\biggl[ a \\biggl] $|大きい[ ]|\n",
    "| \\Bigl[ a \\Bigl] | $ \\Bigl[ a \\Bigl] $|大きい [  ]|\n",
    "| \\bigl[ a \\bigl] | $ \\bigl[ a \\bigl] $|大きい [ ]|\n",
    "| \\Biggl( a \\Biggr) | $ \\Biggl( a \\Biggr) $|大きい( )|\n",
    "| \\biggl( a \\biggl)| $ \\biggl( a \\biggl) $|大きい( )|\n",
    "| \\Bigl( a \\Bigl) | $ \\Bigl( a \\Bigl) $|大きい( ) |\n",
    "| \\bigl( a \\bigl) | $ \\bigl( a \\bigl) $|大きい ( )|\n",
    "| a, b\\overbrace{c, d,e} ,f,g | $ a, b, \\overbrace{c, d,e} ,f,g $|上カッコ|\n",
    "| a, b\\overbrace{c, d,e}^{注目} ,f,g | $ a, b, \\overbrace{c, d,e}^{注目} ,f,g $|説明付き上カッコ|\n",
    "| a, b\\underbrace{c, d,e} ,f,g | $ a, b,\\underbrace{c, d,e} ,f,g $|下カッコ|\n",
    "| a, b\\underbrace{c, d,e}_{注目} ,f,g | $ a, b,\\underbrace{c, d,e}_{注目} ,f,g $|説明付き下カッコ|\n",
    "\n",
    "[**topに戻る**](#top)"
   ]
  },
  {
   "cell_type": "markdown",
   "id": "34de1285",
   "metadata": {},
   "source": [
    "<a id=\"場合分け\"></a>\n",
    "### 場合分け\n",
    "\n",
    "\\\\\\で区切る\n",
    "\n",
    "|&nbsp;&nbsp;&nbsp;&nbsp;&nbsp;&nbsp;&nbsp;&nbsp;&nbsp;&nbsp;&nbsp;&nbsp;&nbsp;&nbsp;&nbsp;&nbsp;&nbsp;&nbsp;&nbsp;&nbsp;$\\LaTeX$&nbsp;&nbsp;&nbsp;&nbsp;&nbsp;&nbsp;&nbsp;&nbsp;&nbsp;&nbsp;&nbsp;&nbsp;&nbsp;&nbsp;&nbsp;&nbsp;&nbsp;&nbsp;&nbsp;&nbsp;|&nbsp;&nbsp;&nbsp;&nbsp;&nbsp;&nbsp;&nbsp;&nbsp;&nbsp;&nbsp;&nbsp;&nbsp;&nbsp;&nbsp;&nbsp;&nbsp;&nbsp;&nbsp;&nbsp;&nbsp;出力&nbsp;&nbsp;&nbsp;&nbsp;&nbsp;&nbsp;&nbsp;&nbsp;&nbsp;&nbsp;&nbsp;&nbsp;&nbsp;&nbsp;&nbsp;&nbsp;&nbsp;&nbsp;&nbsp;&nbsp;|\n",
    "|:-|:-|\n",
    "| \\left\\\\{*\\begin*{array}{ll} 値1 & 場合1 \\\\\\ 値2 & 場合2 *\\end*{array}\\\\right. |  $\\left\\{\\begin{array}{ll} 値1 & 場合1 \\\\ 値2 & 場合2 \\end{array}\\right.$|\n",
    "| f(x) = \\left\\\\{*\\begin{*array}{ll}1 & (x \\geq 0) \\\\\\ 0 & (x \\leq 0)\\end{array}\\right. |  $f(x) = \\left\\{\\begin{array}{ll} 1 & (x \\geq 0) \\\\ 0 & (x \\leq 0) \\end{array} \\right.$|\n",
    "|f(x) = *\\begin*{cases} 1 & (x \\geq 0) \\\\\\ 0 & (x \\leq 0)  \\end{cases} | $f(x) = \\begin{cases} 1 & (x \\geq 0) \\\\ 0 & (x \\leq 0)  \\end{cases}$|\n",
    "|f(x) = *\\begin*{cases} 1 & (x \\gt 0) \\\\\\ -1 & (x \\lt  0) \\\\\\  0 & (x=0) \\end{cases} | $f(x) = \\begin{cases} 1 & (x \\gt 0) \\\\ -1 & (x \\lt 0) \\\\ 0 & (x=0) \\end{cases}$|\n",
    "\n",
    "[**topに戻る**](#top)"
   ]
  },
  {
   "cell_type": "markdown",
   "id": "ef8059f9",
   "metadata": {},
   "source": [
    "<a id=\"空白\"></a>\n",
    "### 空白\n",
    "\n",
    "|&nbsp;&nbsp;&nbsp;&nbsp;&nbsp;&nbsp;&nbsp;&nbsp;&nbsp;&nbsp;&nbsp;&nbsp;&nbsp;&nbsp;&nbsp;&nbsp;&nbsp;&nbsp;&nbsp;&nbsp;$\\LaTeX$&nbsp;&nbsp;&nbsp;&nbsp;&nbsp;&nbsp;&nbsp;&nbsp;&nbsp;&nbsp;&nbsp;&nbsp;&nbsp;&nbsp;&nbsp;&nbsp;&nbsp;&nbsp;&nbsp;&nbsp;| &nbsp;&nbsp;&nbsp;&nbsp;&nbsp;&nbsp;&nbsp;&nbsp;&nbsp;&nbsp;&nbsp;&nbsp;&nbsp;&nbsp;&nbsp;&nbsp;&nbsp;&nbsp;&nbsp;&nbsp;出力　&nbsp;&nbsp;&nbsp;&nbsp;&nbsp;&nbsp;&nbsp;&nbsp;&nbsp;&nbsp;&nbsp;&nbsp;&nbsp;&nbsp;&nbsp;&nbsp;&nbsp;&nbsp;&nbsp;&nbsp;|&nbsp;&nbsp;&nbsp;&nbsp;&nbsp;&nbsp;&nbsp;&nbsp;&nbsp;&nbsp;&nbsp;&nbsp;&nbsp;&nbsp;&nbsp;&nbsp;&nbsp;&nbsp;&nbsp;&nbsp;説明&nbsp;&nbsp;&nbsp;&nbsp;&nbsp;&nbsp;&nbsp;&nbsp;&nbsp;&nbsp;&nbsp;&nbsp;&nbsp;&nbsp;&nbsp;&nbsp;&nbsp;&nbsp;&nbsp;&nbsp;|\n",
    "|:-:|:-:|:-:|\n",
    "|a \\quad a | $a \\quad a$|1文字分のスペース|\n",
    "|a \\qquad a | $a \\qquad a$|2文字分のスペース|\n",
    "|a \\hspace{40pt}\t a | $a \\hspace{40pt}\t a$| \\hspace{幅}\t|\n",
    "|a \\\\! a| $a \\! a$ |負のスペース|\n",
    "|a \\\\, a| $a \\, a$ |小さなスペース|\n",
    "|a \\\\: a| $a \\: a$ |「,」より少し大きなスペース|\n",
    "|a \\\\; a| $a \\; a$ |「:」より少し大きなスペース|\n",
    "\n",
    "[**topに戻る**](#top)"
   ]
  },
  {
   "cell_type": "markdown",
   "id": "75c3603e",
   "metadata": {},
   "source": [
    "<a id=\"集合や数列の演算\"></a>\n",
    "### 集合や数列の演算\n",
    "|&nbsp;&nbsp;&nbsp;&nbsp;&nbsp;&nbsp;&nbsp;&nbsp;&nbsp;&nbsp;&nbsp;&nbsp;&nbsp;&nbsp;&nbsp;&nbsp;&nbsp;&nbsp;&nbsp;&nbsp;$\\LaTeX$&nbsp;&nbsp;&nbsp;&nbsp;&nbsp;&nbsp;&nbsp;&nbsp;&nbsp;&nbsp;&nbsp;&nbsp;&nbsp;&nbsp;&nbsp;&nbsp;&nbsp;&nbsp;&nbsp;&nbsp;| &nbsp;&nbsp;&nbsp;&nbsp;&nbsp;&nbsp;&nbsp;&nbsp;&nbsp;&nbsp;&nbsp;&nbsp;&nbsp;&nbsp;&nbsp;&nbsp;&nbsp;&nbsp;&nbsp;&nbsp;出力　&nbsp;&nbsp;&nbsp;&nbsp;&nbsp;&nbsp;&nbsp;&nbsp;&nbsp;&nbsp;&nbsp;&nbsp;&nbsp;&nbsp;&nbsp;&nbsp;&nbsp;&nbsp;&nbsp;&nbsp;|\n",
    "|:-:|:-:|\n",
    "|\\sum a\\_{n} | $ \\sum a_{n} $| \n",
    "|\\sum_{n} a\\_{n} | $ \\sum_{n} a_{n} $| \n",
    "|\\displaystyle\\sum_{n} a\\_{n} | $ \\displaystyle\\sum_{n} a_{n} $| \n",
    "|\\sum\\_{n=1}^{\\infty}a\\_{n} | $ \\sum_{n=1}^{\\infty}a_{n} $| \n",
    "|\\displaystyle\\sum\\_{n=1}^{\\infty}a\\_{n} | $ \\displaystyle\\sum_{n=1}^{\\infty}a_{n} $| \n",
    "|\\prod a\\_{n} | $ \\prod a_{n} $| \n",
    "|\\prod_{n} a\\_{n} | $ \\prod_{n} a_{n} $| \n",
    "|\\displaystyle\\prod_{n} a\\_{n} | $ \\displaystyle\\prod_{n} a_{n} $| \n",
    "|\\prod\\_{n=1}^{\\infty}a\\_{n} | $ \\prod_{n=1}^{\\infty}a_{n} $| \n",
    "|\\displaystyle\\prod\\_{n=1}^{\\infty}a\\_{n} | $ \\displaystyle\\prod_{n=1}^{\\infty}a_{n} $| \n",
    "| A_{1} \\cup A_{2} | $A_{1} \\cup A_{2}$|\n",
    "| \\cup_{n=1} A_{n} | $\\cup_{n=1} A_{n}$|\n",
    "| \\cup_{n=1}^{100} A_{n} | $\\cup_{n=1}^{100} A_{n}$|\n",
    "|\\bigcup_{n=1}^{100} A_{n}| $\\bigcup_{n=1}^{100} A_{n}$|\n",
    "|\\displaystyle\\bigcup\\_{n=1}^{\\infty} A\\_{n}| $\\displaystyle\\bigcup_{n=1}^{\\infty} A_{n}$|\n",
    "| A_{1} \\cap A_{2} | $A_{1} \\cap A_{2}$|\n",
    "| \\cap_{n=1} A_{n} | $\\cap_{n=1} A_{n}$|\n",
    "| \\cap_{n=1}^{100} A_{n} | $\\cap_{n=1}^{100} A_{n}$|\n",
    "|\\bigcap_{n=1}^{100} A_{n}| $\\bigcap_{n=1}^{100} A_{n}$|\n",
    "|\\displaystyle\\bigcap\\_{n=1}^{\\infty} A\\_{n}| $\\displaystyle\\bigcap_{n=1}^{\\infty} A_{n}$|\n",
    "\n",
    "[**topに戻る**](#top)"
   ]
  },
  {
   "cell_type": "markdown",
   "id": "3e4a539d",
   "metadata": {},
   "source": [
    "<a id=\"極限\"></a>\n",
    "### 極限\n",
    "|&nbsp;&nbsp;&nbsp;&nbsp;&nbsp;&nbsp;&nbsp;&nbsp;&nbsp;&nbsp;&nbsp;&nbsp;&nbsp;&nbsp;&nbsp;&nbsp;&nbsp;&nbsp;&nbsp;&nbsp;$\\LaTeX$&nbsp;&nbsp;&nbsp;&nbsp;&nbsp;&nbsp;&nbsp;&nbsp;&nbsp;&nbsp;&nbsp;&nbsp;&nbsp;&nbsp;&nbsp;&nbsp;&nbsp;&nbsp;&nbsp;&nbsp;| &nbsp;&nbsp;&nbsp;&nbsp;&nbsp;&nbsp;&nbsp;&nbsp;&nbsp;&nbsp;&nbsp;&nbsp;&nbsp;&nbsp;&nbsp;&nbsp;&nbsp;&nbsp;&nbsp;&nbsp;出力　&nbsp;&nbsp;&nbsp;&nbsp;&nbsp;&nbsp;&nbsp;&nbsp;&nbsp;&nbsp;&nbsp;&nbsp;&nbsp;&nbsp;&nbsp;&nbsp;&nbsp;&nbsp;&nbsp;&nbsp;|\n",
    "|:-:|:-:|\n",
    "|\\lim a\\_{n} | $ \\lim a_{n} $| \n",
    "| \\lim_{n} a_{n} | $ \\lim_{n} a_{n} $| \n",
    "| \\lim_{n \\to \\infty} a_{n} | $ \\lim_{n \\to \\infty} a_{n} $| \n",
    "| \\displaystyle\\lim_{n} a_{n} | $ \\displaystyle\\lim_{n} a_{n} $| \n",
    "|\\displaystyle\\lim_{n \\to \\infty}a_{n}  | $ \\displaystyle\\lim_{n \\to \\infty}a_{n} $| \n",
    "|\\displaystyle\\varlimsup_{n \\to \\infty}a_{n}  | $ \\displaystyle\\varlimsup_{n \\to \\infty}a_{n} $| \n",
    "|\\displaystyle\\varliminf_{n \\to \\infty}a_{n}  | $ \\displaystyle\\varliminf_{n \\to \\infty}a_{n} $| \n",
    "\n",
    "\n",
    "[**topに戻る**](#top)"
   ]
  },
  {
   "cell_type": "markdown",
   "id": "81c961fb",
   "metadata": {},
   "source": [
    "<a id=\"穴あき文字\"></a>\n",
    "\n",
    "### 穴あき文字　$\\mathbb{N}, \\ \\mathbb{R}, \\ \\mathbb{C}$\n",
    "\n",
    "<!-- \n",
    "import string\n",
    "for s in string.ascii_uppercase:\n",
    "    print('| \\mathbb{'+s.upper()+ '}| $\\mathbb{'+s.upper()+'} $|')\n",
    " -->\n",
    "\n",
    "\n",
    "\n",
    "\\usepackage{amsfonts}  が必要\n",
    "\n",
    "|&nbsp;&nbsp;&nbsp;&nbsp;&nbsp;&nbsp;&nbsp;&nbsp;&nbsp;&nbsp;&nbsp;&nbsp;&nbsp;&nbsp;&nbsp;&nbsp;&nbsp;&nbsp;&nbsp;&nbsp;$\\LaTeX$&nbsp;&nbsp;&nbsp;&nbsp;&nbsp;&nbsp;&nbsp;&nbsp;&nbsp;&nbsp;&nbsp;&nbsp;&nbsp;&nbsp;&nbsp;&nbsp;&nbsp;&nbsp;&nbsp;&nbsp;| &nbsp;&nbsp;&nbsp;&nbsp;&nbsp;&nbsp;&nbsp;&nbsp;&nbsp;&nbsp;&nbsp;&nbsp;&nbsp;&nbsp;&nbsp;&nbsp;&nbsp;&nbsp;&nbsp;&nbsp;　出力&nbsp;&nbsp;&nbsp;&nbsp;&nbsp;&nbsp;&nbsp;&nbsp;&nbsp;&nbsp;&nbsp;&nbsp;&nbsp;&nbsp;&nbsp;&nbsp;&nbsp;&nbsp;&nbsp;&nbsp;|\n",
    "|:-:|:-:|\n",
    "| \\mathbb{A}| $\\mathbb{A} $|\n",
    "| \\mathbb{B}| $\\mathbb{B} $|\n",
    "| \\mathbb{C}| $\\mathbb{C} $|\n",
    "| \\mathbb{D}| $\\mathbb{D} $|\n",
    "| \\mathbb{E}| $\\mathbb{E} $|\n",
    "| \\mathbb{F}| $\\mathbb{F} $|\n",
    "| \\mathbb{G}| $\\mathbb{G} $|\n",
    "| \\mathbb{H}| $\\mathbb{H} $|\n",
    "| \\mathbb{I}| $\\mathbb{I} $|\n",
    "| \\mathbb{J}| $\\mathbb{J} $|\n",
    "| \\mathbb{K}| $\\mathbb{K} $|\n",
    "| \\mathbb{L}| $\\mathbb{L} $|\n",
    "| \\mathbb{M}| $\\mathbb{M} $|\n",
    "| \\mathbb{N}| $\\mathbb{N} $|\n",
    "| \\mathbb{O}| $\\mathbb{O} $|\n",
    "| \\mathbb{P}| $\\mathbb{P} $|\n",
    "| \\mathbb{Q}| $\\mathbb{Q} $|\n",
    "| \\mathbb{R}| $\\mathbb{R} $|\n",
    "| \\mathbb{S}| $\\mathbb{S} $|\n",
    "| \\mathbb{T}| $\\mathbb{T} $|\n",
    "| \\mathbb{U}| $\\mathbb{U} $|\n",
    "| \\mathbb{V}| $\\mathbb{V} $|\n",
    "| \\mathbb{W}| $\\mathbb{W} $|\n",
    "| \\mathbb{X}| $\\mathbb{X} $|\n",
    "| \\mathbb{Y}| $\\mathbb{Y} $|\n",
    "| \\mathbb{Z}| $\\mathbb{Z} $|\n",
    "\n",
    "[**topに戻る**](#top)"
   ]
  },
  {
   "cell_type": "markdown",
   "id": "d4881978",
   "metadata": {},
   "source": [
    "<a id=\"ギリシャ文字\"></a>\n",
    "\n",
    "### ギリシャ文字\n",
    "|&nbsp;&nbsp;&nbsp;&nbsp;&nbsp;&nbsp;&nbsp;&nbsp;&nbsp;&nbsp;&nbsp;&nbsp;&nbsp;&nbsp;&nbsp;&nbsp;&nbsp;&nbsp;&nbsp;&nbsp;$\\LaTeX$&nbsp;&nbsp;&nbsp;&nbsp;&nbsp;&nbsp;&nbsp;&nbsp;&nbsp;&nbsp;&nbsp;&nbsp;&nbsp;&nbsp;&nbsp;&nbsp;&nbsp;&nbsp;&nbsp;&nbsp;| &nbsp;&nbsp;&nbsp;&nbsp;&nbsp;&nbsp;&nbsp;&nbsp;&nbsp;&nbsp;&nbsp;&nbsp;&nbsp;&nbsp;&nbsp;&nbsp;&nbsp;&nbsp;&nbsp;&nbsp;出力　&nbsp;&nbsp;&nbsp;&nbsp;&nbsp;&nbsp;&nbsp;&nbsp;&nbsp;&nbsp;&nbsp;&nbsp;&nbsp;&nbsp;&nbsp;&nbsp;&nbsp;&nbsp;&nbsp;&nbsp;|&nbsp;&nbsp;&nbsp;&nbsp;&nbsp;&nbsp;&nbsp;&nbsp;&nbsp;&nbsp;&nbsp;&nbsp;&nbsp;&nbsp;&nbsp;&nbsp;&nbsp;&nbsp;&nbsp;&nbsp;$\\LaTeX$&nbsp;&nbsp;&nbsp;&nbsp;&nbsp;&nbsp;&nbsp;&nbsp;&nbsp;&nbsp;&nbsp;&nbsp;&nbsp;&nbsp;&nbsp;&nbsp;&nbsp;&nbsp;&nbsp;&nbsp;| &nbsp;&nbsp;&nbsp;&nbsp;&nbsp;&nbsp;&nbsp;&nbsp;&nbsp;&nbsp;&nbsp;&nbsp;&nbsp;&nbsp;&nbsp;&nbsp;&nbsp;&nbsp;&nbsp;&nbsp;出力　&nbsp;&nbsp;&nbsp;&nbsp;&nbsp;&nbsp;&nbsp;&nbsp;&nbsp;&nbsp;&nbsp;&nbsp;&nbsp;&nbsp;&nbsp;&nbsp;&nbsp;&nbsp;&nbsp;&nbsp;|\n",
    "|:-:|:-:|:-:|:-:|\n",
    "| A | $A $| \\alpha | $\\alpha $|\n",
    "|B | $B $|\\beta | $\\beta $| \n",
    "|\\Gamma | $ \\Gamma $|\\gamma | $\\gamma $| \n",
    "|\\Delta | $ \\Delta $|\\delta | $\\delta $| \n",
    "|E | $ E $|\\varepsilon, \\epsilon | $\\varepsilon, \\epsilon $| \n",
    "| Z| $ Z $|\\zeta | $\\zeta $| \n",
    "| H| $ H $|\\zeta | $\\eta $| \n",
    "| \\Theta| $ H $|\\theta, \\vartheta | $\\theta, \\vartheta $| \n",
    "| I| $ I $|\\iota | $\\iota $| \n",
    "| K | $ K $|\\zeta | $\\kappa $| \n",
    "| \\Lambda | $ \\Lambda $|\\lambda | $\\lambda $| \n",
    "| M | $ M $|\\mu | $\\mu $| \n",
    "| N | $ N $|\\nu | $\\nu $| \n",
    "| \\Xi | $ \\Xi $|\\xi | $\\xi $| \n",
    "| O | $ O $| o | $ o $| \n",
    "| \\Pi | $ \\Pi $| \\pi, \\varpi | $ \\pi, \\varpi $| \n",
    "| P | $ P $| \\rho, \\varrho | $ \\rho, \\varrho $| \n",
    "| \\Sigma | $ \\Sigma $| \\sigma, \\varsigma | $ \\sigma, \\varsigma $| \n",
    "| T | $ T $| \\tau | $ \\tau $| \n",
    "| \\Upsilon | $ \\Upsilon $| \\upsilon | $ \\upsilon $| \n",
    "| \\Phi | $ \\Phi $| \\phi, \\varphi | $ \\phi, \\varphi $| \n",
    "| X | $ X $| \\chi | $ \\chi $| \n",
    "| \\Psi | $ \\Psi $| \\psi | $ \\psi $| \n",
    "| \\Omega | $ \\Omega $| \\omega | $ \\omega $| \n",
    "\n",
    "\n",
    "[**topに戻る**](#top)"
   ]
  },
  {
   "cell_type": "markdown",
   "id": "28ae8a6a",
   "metadata": {},
   "source": [
    "<a id=\"花文字・筆記体文字\"></a>\n",
    "\n",
    "### 花文字・筆記体文字\n",
    "\n",
    "<!-- \n",
    "import string\n",
    "for s in string.ascii_uppercase:\n",
    "    print('| \\mathscr{'+s+ '}| $ \\mathscr{'+s+'}$| \\mathcal{'+s+ '}| $\\mathcal{'+s+'} $|')\n",
    " -->\n",
    "\n",
    "\n",
    "\n",
    "花文字が mathscr、筆記体文字が mathcal です。<br></br>\n",
    "\\usepackage{mathrsfs}  が必要\n",
    "\n",
    "|&nbsp;&nbsp;&nbsp;&nbsp;&nbsp;&nbsp;&nbsp;&nbsp;&nbsp;&nbsp;&nbsp;&nbsp;&nbsp;&nbsp;&nbsp;&nbsp;&nbsp;&nbsp;&nbsp;&nbsp;$\\LaTeX$&nbsp;&nbsp;&nbsp;&nbsp;&nbsp;&nbsp;&nbsp;&nbsp;&nbsp;&nbsp;&nbsp;&nbsp;&nbsp;&nbsp;&nbsp;&nbsp;&nbsp;&nbsp;&nbsp;&nbsp;| &nbsp;&nbsp;&nbsp;&nbsp;&nbsp;&nbsp;&nbsp;&nbsp;&nbsp;&nbsp;&nbsp;&nbsp;&nbsp;&nbsp;&nbsp;&nbsp;&nbsp;&nbsp;&nbsp;&nbsp;　花文字&nbsp;&nbsp;&nbsp;&nbsp;&nbsp;&nbsp;&nbsp;&nbsp;&nbsp;&nbsp;&nbsp;&nbsp;&nbsp;&nbsp;&nbsp;&nbsp;&nbsp;&nbsp;&nbsp;&nbsp;|&nbsp;&nbsp;&nbsp;&nbsp;&nbsp;&nbsp;&nbsp;&nbsp;&nbsp;&nbsp;&nbsp;&nbsp;&nbsp;&nbsp;&nbsp;&nbsp;&nbsp;&nbsp;&nbsp;&nbsp;$\\LaTeX$&nbsp;&nbsp;&nbsp;&nbsp;&nbsp;&nbsp;&nbsp;&nbsp;&nbsp;&nbsp;&nbsp;&nbsp;&nbsp;&nbsp;&nbsp;&nbsp;&nbsp;&nbsp;&nbsp;&nbsp;| &nbsp;&nbsp;&nbsp;&nbsp;&nbsp;&nbsp;&nbsp;&nbsp;&nbsp;&nbsp;&nbsp;&nbsp;&nbsp;&nbsp;&nbsp;&nbsp;&nbsp;&nbsp;&nbsp;&nbsp;筆記体　&nbsp;&nbsp;&nbsp;&nbsp;&nbsp;&nbsp;&nbsp;&nbsp;&nbsp;&nbsp;&nbsp;&nbsp;&nbsp;&nbsp;&nbsp;&nbsp;&nbsp;&nbsp;&nbsp;&nbsp;|\n",
    "|:-:|:-:|:-:|:-:|\n",
    "| \\mathscr{A}| $ \\mathscr{A}$| \\mathcal{A}| $\\mathcal{A} $|\n",
    "| \\mathscr{B}| $ \\mathscr{B}$| \\mathcal{B}| $\\mathcal{B} $|\n",
    "| \\mathscr{C}| $ \\mathscr{C}$| \\mathcal{C}| $\\mathcal{C} $|\n",
    "| \\mathscr{D}| $ \\mathscr{D}$| \\mathcal{D}| $\\mathcal{D} $|\n",
    "| \\mathscr{E}| $ \\mathscr{E}$| \\mathcal{E}| $\\mathcal{E} $|\n",
    "| \\mathscr{F}| $ \\mathscr{F}$| \\mathcal{F}| $\\mathcal{F} $|\n",
    "| \\mathscr{G}| $ \\mathscr{G}$| \\mathcal{G}| $\\mathcal{G} $|\n",
    "| \\mathscr{H}| $ \\mathscr{H}$| \\mathcal{H}| $\\mathcal{H} $|\n",
    "| \\mathscr{I}| $ \\mathscr{I}$| \\mathcal{I}| $\\mathcal{I} $|\n",
    "| \\mathscr{J}| $ \\mathscr{J}$| \\mathcal{J}| $\\mathcal{J} $|\n",
    "| \\mathscr{K}| $ \\mathscr{K}$| \\mathcal{K}| $\\mathcal{K} $|\n",
    "| \\mathscr{L}| $ \\mathscr{L}$| \\mathcal{L}| $\\mathcal{L} $|\n",
    "| \\mathscr{M}| $ \\mathscr{M}$| \\mathcal{M}| $\\mathcal{M} $|\n",
    "| \\mathscr{N}| $ \\mathscr{N}$| \\mathcal{N}| $\\mathcal{N} $|\n",
    "| \\mathscr{O}| $ \\mathscr{O}$| \\mathcal{O}| $\\mathcal{O} $|\n",
    "| \\mathscr{P}| $ \\mathscr{P}$| \\mathcal{P}| $\\mathcal{P} $|\n",
    "| \\mathscr{Q}| $ \\mathscr{Q}$| \\mathcal{Q}| $\\mathcal{Q} $|\n",
    "| \\mathscr{R}| $ \\mathscr{R}$| \\mathcal{R}| $\\mathcal{R} $|\n",
    "| \\mathscr{S}| $ \\mathscr{S}$| \\mathcal{S}| $\\mathcal{S} $|\n",
    "| \\mathscr{T}| $ \\mathscr{T}$| \\mathcal{T}| $\\mathcal{T} $|\n",
    "| \\mathscr{U}| $ \\mathscr{U}$| \\mathcal{U}| $\\mathcal{U} $|\n",
    "| \\mathscr{V}| $ \\mathscr{V}$| \\mathcal{V}| $\\mathcal{V} $|\n",
    "| \\mathscr{W}| $ \\mathscr{W}$| \\mathcal{W}| $\\mathcal{W} $|\n",
    "| \\mathscr{X}| $ \\mathscr{X}$| \\mathcal{X}| $\\mathcal{X} $|\n",
    "| \\mathscr{Y}| $ \\mathscr{Y}$| \\mathcal{Y}| $\\mathcal{Y} $|\n",
    "| \\mathscr{Z}| $ \\mathscr{Z}$| \\mathcal{Z}| $\\mathcal{Z} $|\n",
    "\n",
    "[**topに戻る**](#top)"
   ]
  },
  {
   "cell_type": "markdown",
   "id": "ff928658",
   "metadata": {},
   "source": [
    "<a id=\"ドイツ文字一覧\"></a>\n",
    "\n",
    "### ドイツ文字一覧  \n",
    "<!-- \n",
    "import string\n",
    "for s in string.ascii_uppercase:\n",
    "    print('| \\mathfrak{'+s+ '}| $ \\mathfrak{'+s+'}$| \\mathfrak{'+s.lower()+ '}| $\\mathfrak{'+s.lower()+'} $|')\n",
    " -->\n",
    "\n",
    "ドイツ文字の TeX コマンドは mathfrak です。\n",
    "\n",
    "|&nbsp;&nbsp;&nbsp;&nbsp;&nbsp;&nbsp;&nbsp;&nbsp;&nbsp;&nbsp;&nbsp;&nbsp;&nbsp;&nbsp;&nbsp;&nbsp;&nbsp;&nbsp;&nbsp;&nbsp;$\\LaTeX$&nbsp;&nbsp;&nbsp;&nbsp;&nbsp;&nbsp;&nbsp;&nbsp;&nbsp;&nbsp;&nbsp;&nbsp;&nbsp;&nbsp;&nbsp;&nbsp;&nbsp;&nbsp;&nbsp;&nbsp;| &nbsp;&nbsp;&nbsp;&nbsp;&nbsp;&nbsp;&nbsp;&nbsp;&nbsp;&nbsp;&nbsp;&nbsp;&nbsp;&nbsp;&nbsp;&nbsp;&nbsp;&nbsp;&nbsp;&nbsp;　大文字&nbsp;&nbsp;&nbsp;&nbsp;&nbsp;&nbsp;&nbsp;&nbsp;&nbsp;&nbsp;&nbsp;&nbsp;&nbsp;&nbsp;&nbsp;&nbsp;&nbsp;&nbsp;&nbsp;&nbsp;|&nbsp;&nbsp;&nbsp;&nbsp;&nbsp;&nbsp;&nbsp;&nbsp;&nbsp;&nbsp;&nbsp;&nbsp;&nbsp;&nbsp;&nbsp;&nbsp;&nbsp;&nbsp;&nbsp;&nbsp;$\\LaTeX$&nbsp;&nbsp;&nbsp;&nbsp;&nbsp;&nbsp;&nbsp;&nbsp;&nbsp;&nbsp;&nbsp;&nbsp;&nbsp;&nbsp;&nbsp;&nbsp;&nbsp;&nbsp;&nbsp;&nbsp;| &nbsp;&nbsp;&nbsp;&nbsp;&nbsp;&nbsp;&nbsp;&nbsp;&nbsp;&nbsp;&nbsp;&nbsp;&nbsp;&nbsp;&nbsp;&nbsp;&nbsp;&nbsp;&nbsp;&nbsp;小文字　&nbsp;&nbsp;&nbsp;&nbsp;&nbsp;&nbsp;&nbsp;&nbsp;&nbsp;&nbsp;&nbsp;&nbsp;&nbsp;&nbsp;&nbsp;&nbsp;&nbsp;&nbsp;&nbsp;&nbsp;|\n",
    "|:-:|:-:|:-:|:-:|\n",
    "| \\mathfrak{A}| $ \\mathfrak{A}$| \\mathfrak{a}| $\\mathfrak{a} $|\n",
    "| \\mathfrak{B}| $ \\mathfrak{B}$| \\mathfrak{b}| $\\mathfrak{b} $|\n",
    "| \\mathfrak{C}| $ \\mathfrak{C}$| \\mathfrak{c}| $\\mathfrak{c} $|\n",
    "| \\mathfrak{D}| $ \\mathfrak{D}$| \\mathfrak{d}| $\\mathfrak{d} $|\n",
    "| \\mathfrak{E}| $ \\mathfrak{E}$| \\mathfrak{e}| $\\mathfrak{e} $|\n",
    "| \\mathfrak{F}| $ \\mathfrak{F}$| \\mathfrak{f}| $\\mathfrak{f} $|\n",
    "| \\mathfrak{G}| $ \\mathfrak{G}$| \\mathfrak{g}| $\\mathfrak{g} $|\n",
    "| \\mathfrak{H}| $ \\mathfrak{H}$| \\mathfrak{h}| $\\mathfrak{h} $|\n",
    "| \\mathfrak{I}| $ \\mathfrak{I}$| \\mathfrak{i}| $\\mathfrak{i} $|\n",
    "| \\mathfrak{J}| $ \\mathfrak{J}$| \\mathfrak{j}| $\\mathfrak{j} $|\n",
    "| \\mathfrak{K}| $ \\mathfrak{K}$| \\mathfrak{k}| $\\mathfrak{k} $|\n",
    "| \\mathfrak{L}| $ \\mathfrak{L}$| \\mathfrak{l}| $\\mathfrak{l} $|\n",
    "| \\mathfrak{M}| $ \\mathfrak{M}$| \\mathfrak{m}| $\\mathfrak{m} $|\n",
    "| \\mathfrak{N}| $ \\mathfrak{N}$| \\mathfrak{n}| $\\mathfrak{n} $|\n",
    "| \\mathfrak{O}| $ \\mathfrak{O}$| \\mathfrak{o}| $\\mathfrak{o} $|\n",
    "| \\mathfrak{P}| $ \\mathfrak{P}$| \\mathfrak{p}| $\\mathfrak{p} $|\n",
    "| \\mathfrak{Q}| $ \\mathfrak{Q}$| \\mathfrak{q}| $\\mathfrak{q} $|\n",
    "| \\mathfrak{R}| $ \\mathfrak{R}$| \\mathfrak{r}| $\\mathfrak{r} $|\n",
    "| \\mathfrak{S}| $ \\mathfrak{S}$| \\mathfrak{s}| $\\mathfrak{s} $|\n",
    "| \\mathfrak{T}| $ \\mathfrak{T}$| \\mathfrak{t}| $\\mathfrak{t} $|\n",
    "| \\mathfrak{U}| $ \\mathfrak{U}$| \\mathfrak{u}| $\\mathfrak{u} $|\n",
    "| \\mathfrak{V}| $ \\mathfrak{V}$| \\mathfrak{v}| $\\mathfrak{v} $|\n",
    "| \\mathfrak{W}| $ \\mathfrak{W}$| \\mathfrak{w}| $\\mathfrak{w} $|\n",
    "| \\mathfrak{X}| $ \\mathfrak{X}$| \\mathfrak{x}| $\\mathfrak{x} $|\n",
    "| \\mathfrak{Y}| $ \\mathfrak{Y}$| \\mathfrak{y}| $\\mathfrak{y} $|\n",
    "| \\mathfrak{Z}| $ \\mathfrak{Z}$| \\mathfrak{z}| $\\mathfrak{z} $|\n",
    "\n",
    "[**topに戻る**](#top)"
   ]
  },
  {
   "cell_type": "markdown",
   "id": "23a158ad",
   "metadata": {},
   "source": [
    "<a id=\"積分・重積分・周回積分\"></a>\n",
    "### 積分・重積分・周回積分\n",
    "\n",
    "##### 積分・周回積分\n",
    "|&nbsp;&nbsp;&nbsp;&nbsp;&nbsp;&nbsp;&nbsp;&nbsp;&nbsp;&nbsp;&nbsp;&nbsp;&nbsp;&nbsp;&nbsp;&nbsp;&nbsp;&nbsp;&nbsp;&nbsp;$\\LaTeX$&nbsp;&nbsp;&nbsp;&nbsp;&nbsp;&nbsp;&nbsp;&nbsp;&nbsp;&nbsp;&nbsp;&nbsp;&nbsp;&nbsp;&nbsp;&nbsp;&nbsp;&nbsp;&nbsp;&nbsp;| &nbsp;&nbsp;&nbsp;&nbsp;&nbsp;&nbsp;&nbsp;&nbsp;&nbsp;&nbsp;&nbsp;&nbsp;&nbsp;&nbsp;&nbsp;&nbsp;&nbsp;&nbsp;&nbsp;&nbsp;出力　&nbsp;&nbsp;&nbsp;&nbsp;&nbsp;&nbsp;&nbsp;&nbsp;&nbsp;&nbsp;&nbsp;&nbsp;&nbsp;&nbsp;&nbsp;&nbsp;&nbsp;&nbsp;&nbsp;&nbsp;|\n",
    "|:-:|:-:|\n",
    "|\\int{f(x)dx}| $\\int{f(x)dx}$| \n",
    "|\\int_{b}^{a}{f(x)dx} | $\\int_{b}^{a}{f(x)dx}$| \n",
    "|\\int \\!\\!\\! \\int{f(x,y) dx dy} | $\\int \\!\\!\\! \\int{f(x,y) dx dy} $| \n",
    "|\\iint{f(x,y) dx dy} | $\\iint{f(x,y) dx dy} $| \n",
    "|\\int \\!\\!\\! \\int{f(x,y) dx dy} | $\\int \\!\\!\\! \\int{f(x,y) dx dy} $| \n",
    "|\\oint_{C}{\\frac{i}{z} dz}| $\\oint_{C}{\\frac{e^{i z}}{z} dz} $| \n",
    "\n",
    "\n",
    "##### 重積分\n",
    "|&nbsp;&nbsp;&nbsp;&nbsp;&nbsp;&nbsp;&nbsp;&nbsp;&nbsp;&nbsp;&nbsp;&nbsp;&nbsp;&nbsp;&nbsp;&nbsp;&nbsp;&nbsp;&nbsp;&nbsp;&nbsp;&nbsp;&nbsp;&nbsp;&nbsp;&nbsp;&nbsp;&nbsp;&nbsp;&nbsp;&nbsp;&nbsp;&nbsp;&nbsp;&nbsp;&nbsp;&nbsp;&nbsp;&nbsp;&nbsp;&nbsp;&nbsp;&nbsp;&nbsp;&nbsp;&nbsp;&nbsp;&nbsp;&nbsp;&nbsp;&nbsp;&nbsp;&nbsp;&nbsp;&nbsp;&nbsp;&nbsp;&nbsp;&nbsp;&nbsp;&nbsp;&nbsp;&nbsp;&nbsp;&nbsp;&nbsp;&nbsp;&nbsp;&nbsp;&nbsp;&nbsp;&nbsp;&nbsp;&nbsp;&nbsp;&nbsp;&nbsp;&nbsp;&nbsp;&nbsp;&nbsp;&nbsp;&nbsp;&nbsp;&nbsp;&nbsp;&nbsp;&nbsp;&nbsp;&nbsp;&nbsp;&nbsp;&nbsp;&nbsp;&nbsp;&nbsp;&nbsp;&nbsp;&nbsp;&nbsp;&nbsp;&nbsp;&nbsp;&nbsp;&nbsp;&nbsp;&nbsp;&nbsp;&nbsp;&nbsp;&nbsp;&nbsp;&nbsp;&nbsp;&nbsp;&nbsp;&nbsp;&nbsp;&nbsp;&nbsp;&nbsp;&nbsp;&nbsp;&nbsp;&nbsp;&nbsp;&nbsp;&nbsp;&nbsp;&nbsp;&nbsp;&nbsp;&nbsp;&nbsp;&nbsp;&nbsp;&nbsp;&nbsp;&nbsp;&nbsp;&nbsp;&nbsp;&nbsp;&nbsp;&nbsp;&nbsp;&nbsp;&nbsp;&nbsp;&nbsp;$\\LaTeX$&nbsp;&nbsp;&nbsp;&nbsp;&nbsp;&nbsp;&nbsp;&nbsp;&nbsp;&nbsp;&nbsp;&nbsp;&nbsp;&nbsp;&nbsp;&nbsp;&nbsp;&nbsp;&nbsp;&nbsp;&nbsp;&nbsp;&nbsp;&nbsp;&nbsp;&nbsp;&nbsp;&nbsp;&nbsp;&nbsp;&nbsp;&nbsp;&nbsp;&nbsp;&nbsp;&nbsp;&nbsp;&nbsp;&nbsp;&nbsp;&nbsp;&nbsp;&nbsp;&nbsp;&nbsp;&nbsp;&nbsp;&nbsp;&nbsp;&nbsp;&nbsp;&nbsp;&nbsp;&nbsp;&nbsp;&nbsp;&nbsp;&nbsp;&nbsp;&nbsp;&nbsp;&nbsp;&nbsp;&nbsp;&nbsp;&nbsp;&nbsp;&nbsp;&nbsp;&nbsp;&nbsp;&nbsp;&nbsp;&nbsp;&nbsp;&nbsp;&nbsp;&nbsp;&nbsp;&nbsp;&nbsp;&nbsp;&nbsp;&nbsp;&nbsp;&nbsp;&nbsp;&nbsp;&nbsp;&nbsp;&nbsp;&nbsp;&nbsp;&nbsp;&nbsp;&nbsp;&nbsp;&nbsp;&nbsp;&nbsp;&nbsp;&nbsp;&nbsp;&nbsp;&nbsp;&nbsp;&nbsp;&nbsp;&nbsp;&nbsp;&nbsp;&nbsp;&nbsp;&nbsp;&nbsp;&nbsp;&nbsp;&nbsp;&nbsp;&nbsp;&nbsp;&nbsp;&nbsp;&nbsp;&nbsp;&nbsp;&nbsp;&nbsp;&nbsp;&nbsp;&nbsp;&nbsp;&nbsp;&nbsp;&nbsp;&nbsp;&nbsp;&nbsp;&nbsp;&nbsp;&nbsp;&nbsp;&nbsp;&nbsp;&nbsp;&nbsp;&nbsp;&nbsp;&nbsp;&nbsp;|&nbsp;&nbsp;&nbsp;&nbsp;&nbsp;&nbsp;&nbsp;&nbsp;&nbsp;&nbsp;&nbsp;&nbsp;&nbsp;&nbsp;&nbsp;&nbsp;&nbsp;&nbsp;&nbsp;&nbsp;&nbsp;&nbsp;&nbsp;&nbsp;&nbsp;&nbsp;&nbsp;&nbsp;&nbsp;&nbsp;&nbsp;&nbsp;&nbsp;&nbsp;&nbsp;&nbsp;&nbsp;&nbsp;&nbsp;&nbsp;&nbsp;&nbsp;&nbsp;&nbsp;&nbsp;&nbsp;&nbsp;&nbsp;&nbsp;&nbsp;&nbsp;&nbsp;&nbsp;&nbsp;&nbsp;&nbsp;&nbsp;&nbsp;&nbsp;&nbsp;&nbsp;&nbsp;&nbsp;&nbsp;&nbsp;&nbsp;&nbsp;&nbsp;&nbsp;&nbsp;&nbsp;&nbsp;&nbsp;&nbsp;&nbsp;&nbsp;&nbsp;&nbsp;&nbsp;&nbsp;&nbsp;&nbsp;&nbsp;&nbsp;&nbsp;&nbsp;&nbsp;&nbsp;&nbsp;&nbsp;&nbsp;&nbsp;&nbsp;&nbsp;&nbsp;&nbsp;&nbsp;&nbsp;&nbsp;&nbsp;&nbsp;&nbsp;&nbsp;&nbsp;&nbsp;&nbsp;&nbsp;&nbsp;&nbsp;&nbsp;&nbsp;&nbsp;&nbsp;&nbsp;&nbsp;&nbsp;&nbsp;&nbsp;&nbsp;&nbsp;&nbsp;&nbsp;&nbsp;&nbsp;&nbsp;&nbsp;&nbsp;&nbsp;&nbsp;&nbsp;&nbsp;&nbsp;&nbsp;&nbsp;&nbsp;&nbsp;&nbsp;&nbsp;&nbsp;&nbsp;&nbsp;&nbsp;&nbsp;&nbsp;&nbsp;&nbsp;&nbsp;&nbsp;&nbsp;&nbsp;出力&nbsp;&nbsp;&nbsp;&nbsp;&nbsp;&nbsp;&nbsp;&nbsp;&nbsp;&nbsp;&nbsp;&nbsp;&nbsp;&nbsp;&nbsp;&nbsp;&nbsp;&nbsp;&nbsp;&nbsp;&nbsp;&nbsp;&nbsp;&nbsp;&nbsp;&nbsp;&nbsp;&nbsp;&nbsp;&nbsp;&nbsp;&nbsp;&nbsp;&nbsp;&nbsp;&nbsp;&nbsp;&nbsp;&nbsp;&nbsp;&nbsp;&nbsp;&nbsp;&nbsp;&nbsp;&nbsp;&nbsp;&nbsp;&nbsp;&nbsp;&nbsp;&nbsp;&nbsp;&nbsp;&nbsp;&nbsp;&nbsp;&nbsp;&nbsp;&nbsp;&nbsp;&nbsp;&nbsp;&nbsp;&nbsp;&nbsp;&nbsp;&nbsp;&nbsp;&nbsp;&nbsp;&nbsp;&nbsp;&nbsp;&nbsp;&nbsp;&nbsp;&nbsp;&nbsp;&nbsp;&nbsp;&nbsp;&nbsp;&nbsp;&nbsp;&nbsp;&nbsp;&nbsp;&nbsp;&nbsp;&nbsp;&nbsp;&nbsp;&nbsp;&nbsp;&nbsp;&nbsp;&nbsp;&nbsp;&nbsp;&nbsp;&nbsp;&nbsp;&nbsp;&nbsp;&nbsp;&nbsp;&nbsp;&nbsp;&nbsp;&nbsp;&nbsp;&nbsp;&nbsp;&nbsp;&nbsp;&nbsp;&nbsp;&nbsp;&nbsp;&nbsp;&nbsp;&nbsp;&nbsp;&nbsp;&nbsp;&nbsp;&nbsp;&nbsp;&nbsp;&nbsp;&nbsp;&nbsp;&nbsp;&nbsp;&nbsp;&nbsp;&nbsp;&nbsp;&nbsp;&nbsp;&nbsp;&nbsp;&nbsp;&nbsp;&nbsp;&nbsp;&nbsp;&nbsp;&nbsp;|\n",
    "|:-|-:|\n",
    "|\\idotsint f(a) \\cdots h(z) da \\cdots dz | $\\idotsint f(a) \\cdots h(z) da \\cdots dz $| \n",
    "|\\int_{x_0}^{x_1} \\!\\!\\! \\int_{y_0}^{y_1} \\!\\!\\! \\int_{z_0}^{z_1} f(x) \\cdot g(y) \\cdot h(z) dxdydz = \\int_{x_0}^{x_1} f(x) dx \\cdot \\int_{y_0}^{y_1} g(y) dy \\cdot \\int_{z_0}^{z_1} f(x) h(z) dz|$\\int_{x_0}^{x_1} \\!\\!\\! \\int_{y_0}^{y_1} \\!\\!\\! \\int_{z_0}^{z_1} f(x) \\cdot g(y) \\cdot h(z) dxdydz = \\int_{x_0}^{x_1} f(x) dx \\cdot \\int_{y_0}^{y_1} g(y) dy \\cdot \\int_{z_0}^{z_1} f(x) h(z) dz$|\n",
    "\n",
    "\n",
    "[**topに戻る**](#top)"
   ]
  },
  {
   "cell_type": "markdown",
   "id": "affebf3d",
   "metadata": {},
   "source": []
  },
  {
   "cell_type": "markdown",
   "id": "ea2ceedc",
   "metadata": {},
   "source": []
  },
  {
   "cell_type": "markdown",
   "id": "b393b89c",
   "metadata": {},
   "source": []
  },
  {
   "cell_type": "markdown",
   "id": "bced659a",
   "metadata": {},
   "source": []
  },
  {
   "cell_type": "markdown",
   "id": "f9a55ada",
   "metadata": {},
   "source": []
  },
  {
   "cell_type": "markdown",
   "id": "9d292519",
   "metadata": {},
   "source": []
  },
  {
   "cell_type": "markdown",
   "id": "5f73f54e",
   "metadata": {},
   "source": []
  },
  {
   "cell_type": "markdown",
   "id": "0dda6eef",
   "metadata": {},
   "source": []
  },
  {
   "cell_type": "markdown",
   "id": "bbb770d8",
   "metadata": {},
   "source": []
  },
  {
   "cell_type": "markdown",
   "id": "4e7bfdaa",
   "metadata": {},
   "source": []
  },
  {
   "cell_type": "markdown",
   "id": "d5d645eb",
   "metadata": {},
   "source": []
  },
  {
   "cell_type": "markdown",
   "id": "2157863f",
   "metadata": {},
   "source": []
  },
  {
   "cell_type": "markdown",
   "id": "6191a7e4",
   "metadata": {},
   "source": []
  },
  {
   "cell_type": "markdown",
   "id": "0059a34a",
   "metadata": {},
   "source": []
  },
  {
   "cell_type": "markdown",
   "id": "a1050ab5",
   "metadata": {},
   "source": []
  },
  {
   "cell_type": "markdown",
   "id": "095116ef",
   "metadata": {},
   "source": []
  },
  {
   "cell_type": "markdown",
   "id": "180eb4a3",
   "metadata": {},
   "source": []
  },
  {
   "cell_type": "markdown",
   "id": "80eb7876",
   "metadata": {},
   "source": []
  },
  {
   "cell_type": "markdown",
   "id": "a63f5abd",
   "metadata": {},
   "source": []
  },
  {
   "cell_type": "markdown",
   "id": "0308a7e7",
   "metadata": {},
   "source": []
  },
  {
   "cell_type": "markdown",
   "id": "12e6d35d",
   "metadata": {},
   "source": []
  },
  {
   "cell_type": "markdown",
   "id": "637b0fd3",
   "metadata": {},
   "source": []
  },
  {
   "cell_type": "markdown",
   "id": "1dbf955e",
   "metadata": {},
   "source": []
  },
  {
   "cell_type": "markdown",
   "id": "3f30552a",
   "metadata": {},
   "source": []
  },
  {
   "cell_type": "markdown",
   "id": "debb1f47",
   "metadata": {},
   "source": []
  },
  {
   "cell_type": "markdown",
   "id": "32924d18",
   "metadata": {},
   "source": []
  },
  {
   "cell_type": "markdown",
   "id": "1607f21f",
   "metadata": {},
   "source": []
  },
  {
   "cell_type": "markdown",
   "id": "3070c50f",
   "metadata": {},
   "source": []
  },
  {
   "cell_type": "markdown",
   "id": "8a51fe62",
   "metadata": {},
   "source": []
  },
  {
   "cell_type": "markdown",
   "id": "d57d71fe",
   "metadata": {},
   "source": []
  },
  {
   "cell_type": "markdown",
   "id": "f047bfff",
   "metadata": {},
   "source": []
  },
  {
   "cell_type": "markdown",
   "id": "a73ac683",
   "metadata": {},
   "source": []
  },
  {
   "cell_type": "markdown",
   "id": "935c50fc",
   "metadata": {},
   "source": []
  },
  {
   "cell_type": "markdown",
   "id": "945a401c",
   "metadata": {},
   "source": []
  },
  {
   "cell_type": "markdown",
   "id": "ba8b2eef",
   "metadata": {},
   "source": []
  },
  {
   "cell_type": "markdown",
   "id": "b226166e",
   "metadata": {},
   "source": []
  },
  {
   "cell_type": "markdown",
   "id": "1dbb90ff",
   "metadata": {},
   "source": []
  },
  {
   "cell_type": "markdown",
   "id": "3d46bfaa",
   "metadata": {},
   "source": []
  }
 ],
 "metadata": {
  "kernelspec": {
   "display_name": "Python 3 (ipykernel)",
   "language": "python",
   "name": "python3"
  },
  "language_info": {
   "codemirror_mode": {
    "name": "ipython",
    "version": 3
   },
   "file_extension": ".py",
   "mimetype": "text/x-python",
   "name": "python",
   "nbconvert_exporter": "python",
   "pygments_lexer": "ipython3",
   "version": "3.7.9"
  }
 },
 "nbformat": 4,
 "nbformat_minor": 5
}

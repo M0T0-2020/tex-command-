{
 "cells": [
  {
   "cell_type": "markdown",
   "id": "bed34d92",
   "metadata": {},
   "source": [
    "<a id=\"top\"></a>"
   ]
  },
  {
   "cell_type": "markdown",
   "id": "480ba169",
   "metadata": {},
   "source": [
    "\n",
    "[**上付き・下付きの添字**](#上付き・下付きの添字) <br>\n",
    "[**空白**](#空白)<br>\n",
    "[**集合や数列の演算　周り**$\\sum$,$\\cap$,$\\cup$　](#集合や数列の演算)<br>\n",
    "[**極限**](#極限)<br>\n",
    "[**空白**](#空白)<br>\n",
    "[**空白**](#空白)<br>"
   ]
  },
  {
   "cell_type": "code",
   "execution_count": 8,
   "id": "87f337b7",
   "metadata": {},
   "outputs": [],
   "source": [
    "#<a id=\"上付き・下付きの添字\"></a>\n",
    "#### 上付き・下付きの添字\n",
    "#|&nbsp;&nbsp;&nbsp;&nbsp;&nbsp;&nbsp;&nbsp;&nbsp;&nbsp;&nbsp;&nbsp;&nbsp;&nbsp;&nbsp;&nbsp;&nbsp;&nbsp;&nbsp;&nbsp;&nbsp;$\\LaTeX$&nbsp;&nbsp;&nbsp;&nbsp;&nbsp;&nbsp;&nbsp;&nbsp;&nbsp;&nbsp;&nbsp;&nbsp;&nbsp;&nbsp;&nbsp;&nbsp;&nbsp;&nbsp;&nbsp;&nbsp;| &nbsp;&nbsp;&nbsp;&nbsp;&nbsp;&nbsp;&nbsp;&nbsp;&nbsp;&nbsp;&nbsp;&nbsp;&nbsp;&nbsp;&nbsp;&nbsp;&nbsp;&nbsp;&nbsp;&nbsp;出力　&nbsp;&nbsp;&nbsp;&nbsp;&nbsp;&nbsp;&nbsp;&nbsp;&nbsp;&nbsp;&nbsp;&nbsp;&nbsp;&nbsp;&nbsp;&nbsp;&nbsp;&nbsp;&nbsp;&nbsp;|\n",
    "#|:-:|:-:|\n",
    "#| | $ $| \n",
    "\n",
    "#[**topに戻る**](#top)\n",
    "\n",
    "\n",
    "#<a id=\"上付き・下付きの添字\"></a>\n",
    "#### 上付き・下付きの添字\n",
    "#|&nbsp;&nbsp;&nbsp;&nbsp;&nbsp;&nbsp;&nbsp;&nbsp;&nbsp;&nbsp;&nbsp;&nbsp;&nbsp;&nbsp;&nbsp;&nbsp;&nbsp;&nbsp;&nbsp;&nbsp;$\\LaTeX$&nbsp;&nbsp;&nbsp;&nbsp;&nbsp;&nbsp;&nbsp;&nbsp;&nbsp;&nbsp;&nbsp;&nbsp;&nbsp;&nbsp;&nbsp;&nbsp;&nbsp;&nbsp;&nbsp;&nbsp;| &nbsp;&nbsp;&nbsp;&nbsp;&nbsp;&nbsp;&nbsp;&nbsp;&nbsp;&nbsp;&nbsp;&nbsp;&nbsp;&nbsp;&nbsp;&nbsp;&nbsp;&nbsp;&nbsp;&nbsp;出力　&nbsp;&nbsp;&nbsp;&nbsp;&nbsp;&nbsp;&nbsp;&nbsp;&nbsp;&nbsp;&nbsp;&nbsp;&nbsp;&nbsp;&nbsp;&nbsp;&nbsp;&nbsp;&nbsp;&nbsp;|&nbsp;&nbsp;&nbsp;&nbsp;&nbsp;&nbsp;&nbsp;&nbsp;&nbsp;&nbsp;&nbsp;&nbsp;&nbsp;&nbsp;&nbsp;&nbsp;&nbsp;&nbsp;&nbsp;&nbsp;説明&nbsp;&nbsp;&nbsp;&nbsp;&nbsp;&nbsp;&nbsp;&nbsp;&nbsp;&nbsp;&nbsp;&nbsp;&nbsp;&nbsp;&nbsp;&nbsp;&nbsp;&nbsp;&nbsp;&nbsp;|\n",
    "#|:-:|:-:|:-:|\n",
    "#|a \\quad a | $a \\quad a$|1文字分のスペース|\n",
    "\n",
    "#[**topに戻る**](#top)"
   ]
  },
  {
   "cell_type": "markdown",
   "id": "99d5ffc3",
   "metadata": {},
   "source": [
    "<a id=\"上付き・下付きの添字\"></a>\n",
    "#### 上付き・下付きの添字\n",
    "\n",
    "|&nbsp;&nbsp;&nbsp;&nbsp;&nbsp;&nbsp;&nbsp;&nbsp;&nbsp;&nbsp;&nbsp;&nbsp;&nbsp;&nbsp;&nbsp;&nbsp;&nbsp;&nbsp;&nbsp;&nbsp;$\\LaTeX$&nbsp;&nbsp;&nbsp;&nbsp;&nbsp;&nbsp;&nbsp;&nbsp;&nbsp;&nbsp;&nbsp;&nbsp;&nbsp;&nbsp;&nbsp;&nbsp;&nbsp;&nbsp;&nbsp;&nbsp;| &nbsp;&nbsp;&nbsp;&nbsp;&nbsp;&nbsp;&nbsp;&nbsp;&nbsp;&nbsp;&nbsp;&nbsp;&nbsp;&nbsp;&nbsp;&nbsp;&nbsp;&nbsp;&nbsp;&nbsp;出力　&nbsp;&nbsp;&nbsp;&nbsp;&nbsp;&nbsp;&nbsp;&nbsp;&nbsp;&nbsp;&nbsp;&nbsp;&nbsp;&nbsp;&nbsp;&nbsp;&nbsp;&nbsp;&nbsp;&nbsp;|\n",
    "|:-:|:-:|\n",
    "|x^a | $x^a$|\n",
    "|x^{a+b} | $x^{a+b}$|\n",
    "|x^{a^b} | $x^{a^b}$|\n",
    "|a\\_i | $a_i $|\n",
    "|a\\_{ij} | $a_{ij}$|\n",
    "|a\\_{i\\_j} | $a_{i_j}$|\n",
    "|{1}\\_a | ${1}_a$|\n",
    "|^{ }\\_{1}a | $^{ }_{1}a$|\n",
    "| ^{1}\\_{2} A ^{3}\\_{4}  | $^{1}_{2} A ^{3}_{4}$ |\n",
    "|A^{1\\_{2^3}}  | $A^{1_{2^3}}$  | \n",
    "|A\\_{1^{2\\_{3^4}}}|$A_{1^{2_{3^4}}}$|\n",
    "\n",
    "[**topに戻る**](#top)"
   ]
  },
  {
   "cell_type": "markdown",
   "id": "ef8059f9",
   "metadata": {},
   "source": [
    "<a id=\"空白\"></a>\n",
    "#### 空白\n",
    "\n",
    "|&nbsp;&nbsp;&nbsp;&nbsp;&nbsp;&nbsp;&nbsp;&nbsp;&nbsp;&nbsp;&nbsp;&nbsp;&nbsp;&nbsp;&nbsp;&nbsp;&nbsp;&nbsp;&nbsp;&nbsp;$\\LaTeX$&nbsp;&nbsp;&nbsp;&nbsp;&nbsp;&nbsp;&nbsp;&nbsp;&nbsp;&nbsp;&nbsp;&nbsp;&nbsp;&nbsp;&nbsp;&nbsp;&nbsp;&nbsp;&nbsp;&nbsp;| &nbsp;&nbsp;&nbsp;&nbsp;&nbsp;&nbsp;&nbsp;&nbsp;&nbsp;&nbsp;&nbsp;&nbsp;&nbsp;&nbsp;&nbsp;&nbsp;&nbsp;&nbsp;&nbsp;&nbsp;出力　&nbsp;&nbsp;&nbsp;&nbsp;&nbsp;&nbsp;&nbsp;&nbsp;&nbsp;&nbsp;&nbsp;&nbsp;&nbsp;&nbsp;&nbsp;&nbsp;&nbsp;&nbsp;&nbsp;&nbsp;|&nbsp;&nbsp;&nbsp;&nbsp;&nbsp;&nbsp;&nbsp;&nbsp;&nbsp;&nbsp;&nbsp;&nbsp;&nbsp;&nbsp;&nbsp;&nbsp;&nbsp;&nbsp;&nbsp;&nbsp;説明&nbsp;&nbsp;&nbsp;&nbsp;&nbsp;&nbsp;&nbsp;&nbsp;&nbsp;&nbsp;&nbsp;&nbsp;&nbsp;&nbsp;&nbsp;&nbsp;&nbsp;&nbsp;&nbsp;&nbsp;|\n",
    "|:-:|:-:|:-:|\n",
    "|a \\quad a | $a \\quad a$|1文字分のスペース|\n",
    "|a \\qquad a | $a \\qquad a$|2文字分のスペース|\n",
    "|a \\hspace{40pt}\t a | $a \\hspace{40pt}\t a$| \\hspace{幅}\t|\n",
    "|a \\\\! a| $a \\! a$ |負のスペース|\n",
    "|a \\\\, a| $a \\, a$ |小さなスペース|\n",
    "|a \\\\: a| $a \\: a$ |「,」より少し大きなスペース|\n",
    "|a \\\\; a| $a \\; a$ |「:」より少し大きなスペース|\n",
    "\n",
    "[**topに戻る**](#top)"
   ]
  },
  {
   "cell_type": "markdown",
   "id": "75c3603e",
   "metadata": {},
   "source": [
    "<a id=\"集合や数列の演算\"></a>\n",
    "#### 集合や数列の演算\n",
    "|&nbsp;&nbsp;&nbsp;&nbsp;&nbsp;&nbsp;&nbsp;&nbsp;&nbsp;&nbsp;&nbsp;&nbsp;&nbsp;&nbsp;&nbsp;&nbsp;&nbsp;&nbsp;&nbsp;&nbsp;$\\LaTeX$&nbsp;&nbsp;&nbsp;&nbsp;&nbsp;&nbsp;&nbsp;&nbsp;&nbsp;&nbsp;&nbsp;&nbsp;&nbsp;&nbsp;&nbsp;&nbsp;&nbsp;&nbsp;&nbsp;&nbsp;| &nbsp;&nbsp;&nbsp;&nbsp;&nbsp;&nbsp;&nbsp;&nbsp;&nbsp;&nbsp;&nbsp;&nbsp;&nbsp;&nbsp;&nbsp;&nbsp;&nbsp;&nbsp;&nbsp;&nbsp;出力　&nbsp;&nbsp;&nbsp;&nbsp;&nbsp;&nbsp;&nbsp;&nbsp;&nbsp;&nbsp;&nbsp;&nbsp;&nbsp;&nbsp;&nbsp;&nbsp;&nbsp;&nbsp;&nbsp;&nbsp;|\n",
    "|:-:|:-:|\n",
    "|\\sum a\\_{n} | $ \\sum a_{n} $| \n",
    "|\\sum_{n} a\\_{n} | $ \\sum_{n} a_{n} $| \n",
    "|\\displaystyle\\sum_{n} a\\_{n} | $ \\displaystyle\\sum_{n} a_{n} $| \n",
    "|\\sum\\_{n=1}^{\\infty}a\\_{n} | $ \\sum_{n=1}^{\\infty}a_{n} $| \n",
    "|\\displaystyle\\sum\\_{n=1}^{\\infty}a\\_{n} | $ \\displaystyle\\sum_{n=1}^{\\infty}a_{n} $| \n",
    "| A_{1} \\cup A_{2} | $A_{1} \\cup A_{2}$|\n",
    "| \\cup_{n=1} A_{n} | $\\cup_{n=1} A_{n}$|\n",
    "| \\cup_{n=1}^{100} A_{n} | $\\cup_{n=1}^{100} A_{n}$|\n",
    "|\\bigcup_{n=1}^{100} A_{n}| $\\bigcup_{n=1}^{100} A_{n}$|\n",
    "|\\displaystyle\\bigcup\\_{n=1}^{\\infty} A\\_{n}| $\\displaystyle\\bigcup_{n=1}^{\\infty} A_{n}$|\n",
    "| A_{1} \\cap A_{2} | $A_{1} \\cap A_{2}$|\n",
    "| \\cap_{n=1} A_{n} | $\\cap_{n=1} A_{n}$|\n",
    "| \\cap_{n=1}^{100} A_{n} | $\\cap_{n=1}^{100} A_{n}$|\n",
    "|\\bigcap_{n=1}^{100} A_{n}| $\\bigcap_{n=1}^{100} A_{n}$|\n",
    "|\\displaystyle\\bigcap\\_{n=1}^{\\infty} A\\_{n}| $\\displaystyle\\bigcap_{n=1}^{\\infty} A_{n}$|\n",
    "\n",
    "[**topに戻る**](#top)"
   ]
  },
  {
   "cell_type": "markdown",
   "id": "3e4a539d",
   "metadata": {},
   "source": [
    "<a id=\"極限\"></a>\n",
    "#### 極限\n",
    "|&nbsp;&nbsp;&nbsp;&nbsp;&nbsp;&nbsp;&nbsp;&nbsp;&nbsp;&nbsp;&nbsp;&nbsp;&nbsp;&nbsp;&nbsp;&nbsp;&nbsp;&nbsp;&nbsp;&nbsp;$\\LaTeX$&nbsp;&nbsp;&nbsp;&nbsp;&nbsp;&nbsp;&nbsp;&nbsp;&nbsp;&nbsp;&nbsp;&nbsp;&nbsp;&nbsp;&nbsp;&nbsp;&nbsp;&nbsp;&nbsp;&nbsp;| &nbsp;&nbsp;&nbsp;&nbsp;&nbsp;&nbsp;&nbsp;&nbsp;&nbsp;&nbsp;&nbsp;&nbsp;&nbsp;&nbsp;&nbsp;&nbsp;&nbsp;&nbsp;&nbsp;&nbsp;出力　&nbsp;&nbsp;&nbsp;&nbsp;&nbsp;&nbsp;&nbsp;&nbsp;&nbsp;&nbsp;&nbsp;&nbsp;&nbsp;&nbsp;&nbsp;&nbsp;&nbsp;&nbsp;&nbsp;&nbsp;|\n",
    "|:-:|:-:|\n",
    "|\\lim a\\_{n} | $ \\lim a_{n} $| \n",
    "| \\lim_{n} a_{n} | $ \\lim_{n} a_{n} $| \n",
    "| \\lim_{n \\to \\infty} a_{n} | $ \\lim_{n \\to \\infty} a_{n} $| \n",
    "| \\displaystyle\\lim_{n} a_{n} | $ \\displaystyle\\lim_{n} a_{n} $| \n",
    "|\\displaystyle\\lim_{n \\to \\infty}a_{n}  | $ \\displaystyle\\lim_{n \\to \\infty}a_{n} $| \n",
    "\n",
    "[**topに戻る**](#top)"
   ]
  },
  {
   "cell_type": "markdown",
   "id": "d4881978",
   "metadata": {},
   "source": []
  },
  {
   "cell_type": "markdown",
   "id": "28ae8a6a",
   "metadata": {},
   "source": []
  },
  {
   "cell_type": "markdown",
   "id": "affebf3d",
   "metadata": {},
   "source": []
  },
  {
   "cell_type": "markdown",
   "id": "ea2ceedc",
   "metadata": {},
   "source": []
  },
  {
   "cell_type": "markdown",
   "id": "b393b89c",
   "metadata": {},
   "source": []
  },
  {
   "cell_type": "markdown",
   "id": "bced659a",
   "metadata": {},
   "source": []
  },
  {
   "cell_type": "markdown",
   "id": "f9a55ada",
   "metadata": {},
   "source": []
  },
  {
   "cell_type": "markdown",
   "id": "9d292519",
   "metadata": {},
   "source": []
  },
  {
   "cell_type": "markdown",
   "id": "5f73f54e",
   "metadata": {},
   "source": []
  },
  {
   "cell_type": "markdown",
   "id": "0dda6eef",
   "metadata": {},
   "source": []
  },
  {
   "cell_type": "markdown",
   "id": "bbb770d8",
   "metadata": {},
   "source": []
  },
  {
   "cell_type": "markdown",
   "id": "4e7bfdaa",
   "metadata": {},
   "source": []
  },
  {
   "cell_type": "markdown",
   "id": "d5d645eb",
   "metadata": {},
   "source": []
  },
  {
   "cell_type": "markdown",
   "id": "2157863f",
   "metadata": {},
   "source": []
  },
  {
   "cell_type": "markdown",
   "id": "6191a7e4",
   "metadata": {},
   "source": []
  },
  {
   "cell_type": "markdown",
   "id": "0059a34a",
   "metadata": {},
   "source": []
  },
  {
   "cell_type": "markdown",
   "id": "a1050ab5",
   "metadata": {},
   "source": []
  },
  {
   "cell_type": "markdown",
   "id": "095116ef",
   "metadata": {},
   "source": []
  },
  {
   "cell_type": "markdown",
   "id": "180eb4a3",
   "metadata": {},
   "source": []
  },
  {
   "cell_type": "markdown",
   "id": "80eb7876",
   "metadata": {},
   "source": []
  },
  {
   "cell_type": "markdown",
   "id": "a63f5abd",
   "metadata": {},
   "source": []
  },
  {
   "cell_type": "markdown",
   "id": "0308a7e7",
   "metadata": {},
   "source": []
  },
  {
   "cell_type": "markdown",
   "id": "12e6d35d",
   "metadata": {},
   "source": []
  },
  {
   "cell_type": "markdown",
   "id": "637b0fd3",
   "metadata": {},
   "source": []
  },
  {
   "cell_type": "markdown",
   "id": "1dbf955e",
   "metadata": {},
   "source": []
  },
  {
   "cell_type": "markdown",
   "id": "3f30552a",
   "metadata": {},
   "source": []
  },
  {
   "cell_type": "markdown",
   "id": "debb1f47",
   "metadata": {},
   "source": []
  },
  {
   "cell_type": "markdown",
   "id": "32924d18",
   "metadata": {},
   "source": []
  },
  {
   "cell_type": "markdown",
   "id": "1607f21f",
   "metadata": {},
   "source": []
  },
  {
   "cell_type": "markdown",
   "id": "3070c50f",
   "metadata": {},
   "source": []
  },
  {
   "cell_type": "markdown",
   "id": "8a51fe62",
   "metadata": {},
   "source": []
  },
  {
   "cell_type": "markdown",
   "id": "d57d71fe",
   "metadata": {},
   "source": []
  },
  {
   "cell_type": "markdown",
   "id": "f047bfff",
   "metadata": {},
   "source": []
  },
  {
   "cell_type": "markdown",
   "id": "a73ac683",
   "metadata": {},
   "source": []
  },
  {
   "cell_type": "markdown",
   "id": "935c50fc",
   "metadata": {},
   "source": []
  },
  {
   "cell_type": "markdown",
   "id": "945a401c",
   "metadata": {},
   "source": []
  },
  {
   "cell_type": "markdown",
   "id": "ba8b2eef",
   "metadata": {},
   "source": []
  },
  {
   "cell_type": "markdown",
   "id": "b226166e",
   "metadata": {},
   "source": []
  },
  {
   "cell_type": "markdown",
   "id": "1dbb90ff",
   "metadata": {},
   "source": []
  },
  {
   "cell_type": "markdown",
   "id": "3d46bfaa",
   "metadata": {},
   "source": []
  }
 ],
 "metadata": {
  "kernelspec": {
   "display_name": "Python 3 (ipykernel)",
   "language": "python",
   "name": "python3"
  },
  "language_info": {
   "codemirror_mode": {
    "name": "ipython",
    "version": 3
   },
   "file_extension": ".py",
   "mimetype": "text/x-python",
   "name": "python",
   "nbconvert_exporter": "python",
   "pygments_lexer": "ipython3",
   "version": "3.7.9"
  }
 },
 "nbformat": 4,
 "nbformat_minor": 5
}
